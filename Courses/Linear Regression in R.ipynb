{
 "cells": [
  {
   "cell_type": "code",
   "execution_count": 1,
   "id": "63003997-a7b4-404c-9fdb-fb7643746a80",
   "metadata": {},
   "outputs": [
    {
     "data": {
      "text/plain": [
       "\n",
       "Call:\n",
       "lm(formula = data$poverty ~ data$hs_grad, data = data)\n",
       "\n",
       "Residuals:\n",
       "    Min      1Q  Median      3Q     Max \n",
       "-4.1624 -1.2593 -0.2184  0.9611  5.4437 \n",
       "\n",
       "Coefficients:\n",
       "             Estimate Std. Error t value Pr(>|t|)    \n",
       "(Intercept)  64.78097    6.80260   9.523 9.94e-13 ***\n",
       "data$hs_grad -0.62122    0.07902  -7.862 3.11e-10 ***\n",
       "---\n",
       "Signif. codes:  0 ‘***’ 0.001 ‘**’ 0.01 ‘*’ 0.05 ‘.’ 0.1 ‘ ’ 1\n",
       "\n",
       "Residual standard error: 2.082 on 49 degrees of freedom\n",
       "Multiple R-squared:  0.5578,\tAdjusted R-squared:  0.5488 \n",
       "F-statistic: 61.81 on 1 and 49 DF,  p-value: 3.109e-10\n"
      ]
     },
     "metadata": {},
     "output_type": "display_data"
    },
    {
     "data": {
      "image/png": "[encoded data removed]",
      "text/plain": [
       "plot without title"
      ]
     },
     "metadata": {
      "image/png": {
       "height": 420,
       "width": 420
      }
     },
     "output_type": "display_data"
    }
   ],
   "source": [
    "library(ggplot2)\n",
    "data = read.csv(\"/home/sex_beast/states.csv\")\n",
    "par(bg = 'grey')\n",
    "lm.out=lm(data$poverty~data$hs_grad, data=data)\n",
    "summary(lm.out)\n",
    "res = data.frame(data$hs_grad, lm(poverty~hs_grad, data)$residuals)\n",
    "colnames(res) = c('hs_grad', 'residuals')\n",
    "ggplot(res,aes(hs_grad,residuals))+\n",
    "    geom_point(size=2)+\n",
    "    geom_hline(yintercept=0, colour=\"red\", linetype=\"dashed\", lwd=1)+\n",
    "    scale_y_continuous(name = 'residuals')+\n",
    "    scale_x_continuous(name = 'hs_gard (%)')+\n",
    "    ggtitle('Residuals analysis')+\n",
    "    theme(plot.title = element_text(hjust = 0.5))"
   ]
  },
  {
   "cell_type": "code",
   "execution_count": null,
   "id": "a1018d49-8836-4f36-94ea-ab4d32adc97b",
   "metadata": {},
   "outputs": [],
   "source": []
  }
 ],
 "metadata": {
  "kernelspec": {
   "display_name": "R",
   "language": "R",
   "name": "ir"
  },
  "language_info": {
   "codemirror_mode": "r",
   "file_extension": ".r",
   "mimetype": "text/x-r-source",
   "name": "R",
   "pygments_lexer": "r",
   "version": "4.2.1"
  }
 },
 "nbformat": 4,
 "nbformat_minor": 5
}
