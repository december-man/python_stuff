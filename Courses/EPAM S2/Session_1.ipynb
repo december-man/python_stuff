{
 "cells": [
  {
   "cell_type": "markdown",
   "id": "8b57c4cb-3aa4-4305-9fb5-c65ddc7de9eb",
   "metadata": {},
   "source": [
    "# EPAM S2 Python Basics excerpts"
   ]
  },
  {
   "cell_type": "markdown",
   "id": "987269da-6215-4eb6-9197-73f2a963ff57",
   "metadata": {},
   "source": [
    "Python is\n",
    "- Interpreted (python uses an interpreter that converts each high-level statements into machine code)\n",
    "- Interactive (type python code straight into the interpreter, f.e. - jupyter notebooks)\n",
    "- Object-Oriented (OOP+)\n",
    "- Portable (runs on most of the OS)\n",
    "- Extendable (community, libraries)"
   ]
  },
  {
   "cell_type": "markdown",
   "id": "2e2a88de-6b93-4b52-bf76-0926385b61ab",
   "metadata": {},
   "source": [
    "Python is **Case-Sensitive**"
   ]
  },
  {
   "cell_type": "markdown",
   "id": "48cf1779-0c3d-4180-9e3d-b25784bde4dd",
   "metadata": {},
   "source": [
    "Python is OK with all unicode symbals, but ASCII is encouraged"
   ]
  },
  {
   "cell_type": "code",
   "execution_count": 1,
   "id": "ec06ac75-1701-4735-b42a-f8791fe8aa15",
   "metadata": {},
   "outputs": [
    {
     "name": "stdout",
     "output_type": "stream",
     "text": [
      "['False', 'None', 'True', 'and', 'as', 'assert', 'async', 'await', 'break', 'class', 'continue', 'def', 'del', 'elif', 'else', 'except', 'finally', 'for', 'from', 'global', 'if', 'import', 'in', 'is', 'lambda', 'nonlocal', 'not', 'or', 'pass', 'raise', 'return', 'try', 'while', 'with', 'yield']\n"
     ]
    }
   ],
   "source": [
    "import keyword\n",
    "print(keyword.kwlist)"
   ]
  },
  {
   "cell_type": "markdown",
   "id": "621ae6ef-b428-4b74-b889-a08e70ab3604",
   "metadata": {},
   "source": [
    "\\ - Line continuation"
   ]
  },
  {
   "cell_type": "markdown",
   "id": "69d1c749-d13e-455f-8cd0-345f9aa4e25c",
   "metadata": {},
   "source": [
    "Python Syntax. PEPs. PEP8 - syntax guide/rules\n",
    "\n",
    "Read documentation! Always!"
   ]
  },
  {
   "cell_type": "markdown",
   "id": "ed13a36e-aea2-4eb0-9a6b-931df9058c4f",
   "metadata": {},
   "source": [
    "Object identity - is the address of the object in memory"
   ]
  },
  {
   "cell_type": "code",
   "execution_count": 2,
   "id": "9d23a129-375f-4af1-8ecb-3fb0252c1d6b",
   "metadata": {},
   "outputs": [
    {
     "name": "stdout",
     "output_type": "stream",
     "text": [
      "9793088\n",
      "9793088\n",
      "9793088\n"
     ]
    }
   ],
   "source": [
    "a=b=1\n",
    "print(id(a))\n",
    "print(id(b))\n",
    "print(id(1))"
   ]
  },
  {
   "cell_type": "markdown",
   "id": "39b4f303-f988-4b22-828b-91721ebe4291",
   "metadata": {},
   "source": [
    "id() throws an integer that is guaranteed to be unique and constant for this object (memory cell) during its lifetime"
   ]
  },
  {
   "cell_type": "markdown",
   "id": "6702f5ac-6c3f-4017-a3ad-9e57b80c2fda",
   "metadata": {},
   "source": [
    "Python doesn't have variables. It sounds mind-boggling, as one seems to use them all along. But really, that is not how it works with Python. This will really confuse people with a background in C or C++. If we do int n in C++, and write n = 1, n += 1 or the like, the address &n will never change. The value changes.\n",
    "\n",
    "But in Python the “variables” are mere pointers to values somewhere. This can be seen because doing n += 1 in Python actually creates a new value. Expanding this as n = n + 1 and reading it as “let n point to the value of n + 1. We can easily see this by creating a variable and looking at the ememory address."
   ]
  },
  {
   "cell_type": "code",
   "execution_count": 3,
   "id": "3f1465a5-f500-418a-ae39-e727646f714a",
   "metadata": {},
   "outputs": [
    {
     "data": {
      "text/plain": [
       "140172834524336"
      ]
     },
     "execution_count": 3,
     "metadata": {},
     "output_type": "execute_result"
    }
   ],
   "source": [
    "n = 10000\n",
    "id(n)"
   ]
  },
  {
   "cell_type": "code",
   "execution_count": 4,
   "id": "17945f60-4f41-4d54-bcb9-d0aa07d0f2f9",
   "metadata": {},
   "outputs": [
    {
     "data": {
      "text/plain": [
       "140172834524528"
      ]
     },
     "execution_count": 4,
     "metadata": {},
     "output_type": "execute_result"
    }
   ],
   "source": [
    "#Now increasing this number will make n point to a different address in memory!\n",
    "n += 1\n",
    "id(n)"
   ]
  },
  {
   "cell_type": "markdown",
   "id": "b02d5881-e0ba-439d-b7d0-2a0f41f5f5b1",
   "metadata": {},
   "source": [
    "Now, this seems pretty inefficient for integers. And it actually is, that's one of the reasons why Python usually performs slower than the C++ code that achieves the same things. But for small integers it is not that bad because there is an optimizations. The small integers are alle instantiated as singletons during startup, so there the addresses are re-used. See the following example:"
   ]
  },
  {
   "cell_type": "code",
   "execution_count": 8,
   "id": "3c514edc-0b73-4b1b-9fda-4b1039d0f714",
   "metadata": {},
   "outputs": [
    {
     "name": "stdout",
     "output_type": "stream",
     "text": [
      "9793152\n",
      "9793184\n",
      "9793152\n",
      "9793184\n"
     ]
    }
   ],
   "source": [
    "n = 3\n",
    "print(id(n))\n",
    "n = 4\n",
    "print(id(n))\n",
    "n = 3\n",
    "print(id(n))\n",
    "n += 1\n",
    "print(id(n))"
   ]
  },
  {
   "cell_type": "markdown",
   "id": "16438db0-adf7-4059-9265-10e82daf1f73",
   "metadata": {},
   "source": [
    "In python, a 'variable' is jut a label, a pointer to an object in memory."
   ]
  },
  {
   "cell_type": "markdown",
   "id": "ec77b18d-0a0f-4b86-84fd-a622aa6d2382",
   "metadata": {},
   "source": [
    "`None` is a special object in python, it has a dedicated type - NoneType. It means nothing, void: it is always cast to Fals and is NULL counterpart."
   ]
  },
  {
   "cell_type": "markdown",
   "id": "e4f84a80-55fc-4bff-ae30-69e2e9ee0fc9",
   "metadata": {},
   "source": [
    "Python datatypes:\n",
    "* bool\n",
    "* Numeric types: int, float, complex\n",
    "* Sequence types: list, tuple, range\n",
    "* Text sequence type: str\n",
    "* Byte sequence type: bytes, bytearray, memoryview\n",
    "* Set types: set, frozenset\n",
    "* Mapping types: dict\n",
    "* Others: iterators, generators, modules, types, functions, methods, NoneType"
   ]
  },
  {
   "cell_type": "markdown",
   "id": "7c204650-e66a-40d0-a1ca-09a1b26a8da6",
   "metadata": {},
   "source": [
    "#### Type casting:\n",
    "- int(x, [,base])\n",
    "- float(x)\n",
    "- str(x)\n",
    "- chr(x)\n",
    "- ord(x)\n",
    "- hex(x)\n",
    "- oct(x)"
   ]
  },
  {
   "cell_type": "markdown",
   "id": "3559abe5-7e30-4107-8531-6824c64bfece",
   "metadata": {},
   "source": [
    "`del` statement deletes 'variables' (labels/pointers), object deletion in python is mostly automated"
   ]
  },
  {
   "cell_type": "markdown",
   "id": "2e3fb20a-a952-471d-9dce-ce24eacd0cf9",
   "metadata": {},
   "source": [
    "**Mutability** - changing in-place, without creating new objects"
   ]
  },
  {
   "cell_type": "code",
   "execution_count": 9,
   "id": "7e0f571d-22d8-4085-9d63-6673456ce205",
   "metadata": {},
   "outputs": [
    {
     "name": "stdout",
     "output_type": "stream",
     "text": [
      "[1, 2, 3]\n",
      "[1, 2, 3, 3, 2, 1]\n"
     ]
    }
   ],
   "source": [
    "# lists are mutable\n",
    "x = [1,2,3]\n",
    "y = x\n",
    "print(x)\n",
    "y += [3,2,1]\n",
    "print(x)"
   ]
  },
  {
   "cell_type": "code",
   "execution_count": 10,
   "id": "1a848d85-c296-40be-b169-75a19c74ec56",
   "metadata": {},
   "outputs": [
    {
     "name": "stdout",
     "output_type": "stream",
     "text": [
      "foo\n",
      "foo\n"
     ]
    }
   ],
   "source": [
    "# strings are immutable\n",
    "x = 'foo'\n",
    "y = x\n",
    "print(x)\n",
    "y += 'bar'\n",
    "print(x)"
   ]
  },
  {
   "cell_type": "markdown",
   "id": "a28e8533-1e5b-4628-b6f6-2c0915a95d33",
   "metadata": {},
   "source": [
    "\\ - is also an escape symbol:"
   ]
  },
  {
   "cell_type": "code",
   "execution_count": 11,
   "id": "9c3ca8d6-fb02-4b22-9b9f-82ca34a3cb8c",
   "metadata": {},
   "outputs": [
    {
     "data": {
      "text/plain": [
       "\"This is an 'example'\""
      ]
     },
     "execution_count": 11,
     "metadata": {},
     "output_type": "execute_result"
    }
   ],
   "source": [
    "'This is an \\'example\\''"
   ]
  },
  {
   "cell_type": "markdown",
   "id": "976d429b-ac0f-4590-80a1-0ed179e30d91",
   "metadata": {},
   "source": [
    "### Slicing"
   ]
  },
  {
   "cell_type": "markdown",
   "id": "92e2f77a-4260-4f20-9948-660373dd2b12",
   "metadata": {},
   "source": [
    "`iterable_object[start:end:step]`"
   ]
  },
  {
   "cell_type": "code",
   "execution_count": 12,
   "id": "5af2e357-c899-478b-b270-6be2416fd521",
   "metadata": {},
   "outputs": [
    {
     "data": {
      "text/plain": [
       "'321'"
      ]
     },
     "execution_count": 12,
     "metadata": {},
     "output_type": "execute_result"
    }
   ],
   "source": [
    "'123'[::-1]"
   ]
  },
  {
   "cell_type": "code",
   "execution_count": 17,
   "id": "7368c7b2-2f22-4902-bf48-87c107a9fa64",
   "metadata": {},
   "outputs": [
    {
     "data": {
      "text/plain": [
       "'864'"
      ]
     },
     "execution_count": 17,
     "metadata": {},
     "output_type": "execute_result"
    }
   ],
   "source": [
    "'123456789'[7:1:-2]"
   ]
  },
  {
   "cell_type": "markdown",
   "id": "5b2a38f0-3004-43a7-84aa-0e20f88652ec",
   "metadata": {},
   "source": [
    "r' - Raw strings\n",
    "u' - python 2 backward compatibility"
   ]
  },
  {
   "cell_type": "code",
   "execution_count": 28,
   "id": "a7626bbf-6129-4818-802b-f6fff38d9c55",
   "metadata": {},
   "outputs": [
    {
     "data": {
      "text/plain": [
       "('111', [1, 1, 1])"
      ]
     },
     "execution_count": 28,
     "metadata": {},
     "output_type": "execute_result"
    }
   ],
   "source": [
    "# Repetition with * symbol\n",
    "'1'*3, [1]*3"
   ]
  },
  {
   "cell_type": "markdown",
   "id": "e46f5c8b-3ed9-4dfd-b9f7-a02a354d7c09",
   "metadata": {},
   "source": [
    "### Lists"
   ]
  },
  {
   "cell_type": "markdown",
   "id": "c1afafb9-a692-43e2-a525-40ea5b08075d",
   "metadata": {},
   "source": [
    "Built-in list functions:\n",
    "- len(list)\n",
    "- list(seq)\n",
    "- min(list)\n",
    "- max(list)"
   ]
  },
  {
   "cell_type": "markdown",
   "id": "603ded69-f335-4da5-8591-9cfb5e6efa58",
   "metadata": {},
   "source": [
    "Built-in list methods:\n",
    "- append(obj)\n",
    "- count(value)\n",
    "- extend(iterable)\n",
    "- index(value, [start, [stop]])\n",
    "- insert(index, obj)\n",
    "- pop([index=-1])\n",
    "- remove(obj)\n",
    "- reverse()\n",
    "- sort(key = None, reverse = False)"
   ]
  },
  {
   "cell_type": "markdown",
   "id": "45121a6b-4e80-4290-b350-f19457e5df93",
   "metadata": {},
   "source": [
    "Tuples - immutable lists"
   ]
  },
  {
   "cell_type": "code",
   "execution_count": 27,
   "id": "707d60a7-c62f-480f-ad32-36afd2febfc1",
   "metadata": {},
   "outputs": [
    {
     "name": "stdout",
     "output_type": "stream",
     "text": [
      "('sus', 1, [1, 2], 1, 2, 3)\n",
      "(')', ')', ')')\n",
      "True\n"
     ]
    },
    {
     "data": {
      "text/plain": [
       "2"
      ]
     },
     "execution_count": 27,
     "metadata": {},
     "output_type": "execute_result"
    }
   ],
   "source": [
    "# init tuple\n",
    "tup0 = ()\n",
    "tup1 = (1,2,3)\n",
    "# concatenation, membershitp, repetition\n",
    "tup2 = ('sus', 1, [1,2]) + tup1\n",
    "print(tup2)\n",
    "print((\")\",)*3)\n",
    "print(3 in (1,2,3))\n",
    "len((1, 2))"
   ]
  },
  {
   "cell_type": "markdown",
   "id": "e1b73acf-4fb1-4f36-bdfe-3d361e6c6c7b",
   "metadata": {},
   "source": [
    "### Operators Excerpts"
   ]
  },
  {
   "cell_type": "markdown",
   "id": "da572a2c-388c-4774-9a70-39426a61eed1",
   "metadata": {},
   "source": [
    "Chaining boolean operators"
   ]
  },
  {
   "cell_type": "code",
   "execution_count": 29,
   "id": "4df8b0ca-5180-422b-8248-484dbbada82e",
   "metadata": {},
   "outputs": [
    {
     "name": "stdout",
     "output_type": "stream",
     "text": [
      "True\n",
      "True\n",
      "False\n"
     ]
    }
   ],
   "source": [
    "print(1<2<3)\n",
    "print(1<5>4)\n",
    "print((1<5) > 4)"
   ]
  },
  {
   "cell_type": "markdown",
   "id": "1160e73c-70b3-48de-8343-369092d95a80",
   "metadata": {},
   "source": [
    "### Bitwise Operators"
   ]
  },
  {
   "cell_type": "markdown",
   "id": "01db1615-38ef-46b4-8f4a-86f076ab77cc",
   "metadata": {},
   "source": [
    "- `&` Bitwise AND\n",
    "- `|` Bitwise OR\n",
    "- `^` Bitwise XOR\n",
    "- `~` Bitwise NOT\n",
    "- `<<` Bitwise left shit\n",
    "- `>>` Bitwise right shift"
   ]
  },
  {
   "cell_type": "code",
   "execution_count": 31,
   "id": "10838459-8c0c-46aa-b4c5-aeb509f0b5cc",
   "metadata": {},
   "outputs": [
    {
     "data": {
      "text/plain": [
       "('0b1100', '0b1111101', '0b1110001')"
      ]
     },
     "execution_count": 31,
     "metadata": {},
     "output_type": "execute_result"
    }
   ],
   "source": [
    "a = int('00111100', 2)\n",
    "b = int('01001101', 2)\n",
    "bin(a & b), bin(a | b), bin(a^b)"
   ]
  },
  {
   "cell_type": "code",
   "execution_count": 35,
   "id": "09d791c4-b5e6-4fad-981a-2890948c59c8",
   "metadata": {},
   "outputs": [
    {
     "data": {
      "text/plain": [
       "(2, 0, 5, 7)"
      ]
     },
     "execution_count": 35,
     "metadata": {},
     "output_type": "execute_result"
    }
   ],
   "source": [
    "5 and 2, 5 & 2, 5 or 2, 5 | 2"
   ]
  },
  {
   "cell_type": "markdown",
   "id": "ed595edc-d6e5-4365-9393-b37e0ebc0b99",
   "metadata": {},
   "source": [
    "### Identity operators"
   ]
  },
  {
   "cell_type": "markdown",
   "id": "46e423df-a446-414d-ab96-d20454ee59c9",
   "metadata": {},
   "source": [
    "`a is b == id(a) == id(b)`"
   ]
  },
  {
   "cell_type": "markdown",
   "id": "3d1dbd99-dd27-4e66-a46e-fedaa5682c26",
   "metadata": {},
   "source": [
    "### Operator Precedence (desc)"
   ]
  },
  {
   "cell_type": "markdown",
   "id": "bc8a8ea9-161c-43bd-93d8-c1d0912d030e",
   "metadata": {},
   "source": [
    "- `**`\n",
    "- `~+@ -@ (sign changes)`\n",
    "- `* / % //`\n",
    "- `+ -`\n",
    "- `>> <<`\n",
    "- `&`\n",
    "- `^ |`\n",
    "- `<= < > =>`\n",
    "- `== !=`\n",
    "- `= %=, /= //= -= += *= **=`\n",
    "- `is, is not`\n",
    "- `in, not in`\n",
    "- `not or and`"
   ]
  },
  {
   "cell_type": "markdown",
   "id": "4f62c92a-cec5-4178-a38e-eb68dcd23264",
   "metadata": {},
   "source": [
    "### Ternary Operator\n",
    "one-liner for if condition"
   ]
  },
  {
   "cell_type": "code",
   "execution_count": 36,
   "id": "07c4b7fb-d4a0-4ba5-9100-edc27cf0820b",
   "metadata": {},
   "outputs": [
    {
     "name": "stdout",
     "output_type": "stream",
     "text": [
      "True\n"
     ]
    }
   ],
   "source": [
    "a = True\n",
    "print('True' if a else 'False')"
   ]
  }
 ],
 "metadata": {
  "kernelspec": {
   "display_name": "Python 3 (ipykernel)",
   "language": "python",
   "name": "python3"
  },
  "language_info": {
   "codemirror_mode": {
    "name": "ipython",
    "version": 3
   },
   "file_extension": ".py",
   "mimetype": "text/x-python",
   "name": "python",
   "nbconvert_exporter": "python",
   "pygments_lexer": "ipython3",
   "version": "3.8.10"
  }
 },
 "nbformat": 4,
 "nbformat_minor": 5
}
