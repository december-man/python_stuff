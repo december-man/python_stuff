{
 "cells": [
  {
   "cell_type": "markdown",
   "id": "1d412f2a-4733-4834-b731-490cdab7d34b",
   "metadata": {},
   "source": [
    "# EPAM Python S2 Closures Decorators and I/O"
   ]
  },
  {
   "cell_type": "markdown",
   "id": "70b78d98-2e58-483d-81e9-965bc2888848",
   "metadata": {},
   "source": [
    "## Namespaces and Scopes"
   ]
  },
  {
   "cell_type": "markdown",
   "id": "09c1b674-25e1-47df-be3f-b9c9d664586b",
   "metadata": {},
   "source": [
    "### Namespaces"
   ]
  },
  {
   "cell_type": "markdown",
   "id": "d03b1d2f-bc87-43f8-a7d9-77ea01084cdd",
   "metadata": {},
   "source": [
    "A namespace is a collection of currently defined symbolic names along with information about the object that each name references: **a dictionary in which the keys are the object names and the values are the objects themselves**"
   ]
  },
  {
   "cell_type": "markdown",
   "id": "c1f75e4b-2b61-4d59-9cab-445b9b75e5bd",
   "metadata": {},
   "source": [
    "4 types of namespaces:\n",
    "- Built-In\n",
    "- Global\n",
    "- Enclosing\n",
    "- Local"
   ]
  },
  {
   "cell_type": "markdown",
   "id": "35e1bb12-d941-488d-b708-abecf42afe43",
   "metadata": {},
   "source": [
    "The **built-in** namespace contains the names of all of python's built-in objects "
   ]
  },
  {
   "cell_type": "code",
   "execution_count": 3,
   "id": "7ac2cc2f-fbd4-47e3-82a4-cfe34fdd8b78",
   "metadata": {},
   "outputs": [
    {
     "name": "stdout",
     "output_type": "stream",
     "text": [
      "['ArithmeticError', 'AssertionError', 'AttributeError', 'BaseException', 'BlockingIOError', 'BrokenPipeError', 'BufferError', 'BytesWarning', 'ChildProcessError', 'ConnectionAbortedError', 'ConnectionError', 'ConnectionRefusedError', 'ConnectionResetError', 'DeprecationWarning', 'EOFError', 'Ellipsis', 'EnvironmentError', 'Exception', 'False', 'FileExistsError', 'FileNotFoundError', 'FloatingPointError', 'FutureWarning', 'GeneratorExit', 'IOError', 'ImportError', 'ImportWarning', 'IndentationError', 'IndexError', 'InterruptedError', 'IsADirectoryError', 'KeyError', 'KeyboardInterrupt', 'LookupError', 'MemoryError', 'ModuleNotFoundError', 'NameError', 'None', 'NotADirectoryError', 'NotImplemented', 'NotImplementedError', 'OSError', 'OverflowError', 'PendingDeprecationWarning', 'PermissionError', 'ProcessLookupError', 'RecursionError', 'ReferenceError', 'ResourceWarning', 'RuntimeError', 'RuntimeWarning', 'StopAsyncIteration', 'StopIteration', 'SyntaxError', 'SyntaxWarning', 'SystemError', 'SystemExit', 'TabError', 'TimeoutError', 'True', 'TypeError', 'UnboundLocalError', 'UnicodeDecodeError', 'UnicodeEncodeError', 'UnicodeError', 'UnicodeTranslateError', 'UnicodeWarning', 'UserWarning', 'ValueError', 'Warning', 'ZeroDivisionError', '__IPYTHON__', '__build_class__', '__debug__', '__doc__', '__import__', '__loader__', '__name__', '__package__', '__spec__', 'abs', 'all', 'any', 'ascii', 'bin', 'bool', 'breakpoint', 'bytearray', 'bytes', 'callable', 'chr', 'classmethod', 'compile', 'complex', 'copyright', 'credits', 'delattr', 'dict', 'dir', 'display', 'divmod', 'enumerate', 'eval', 'exec', 'execfile', 'filter', 'float', 'format', 'frozenset', 'get_ipython', 'getattr', 'globals', 'hasattr', 'hash', 'help', 'hex', 'id', 'input', 'int', 'isinstance', 'issubclass', 'iter', 'len', 'license', 'list', 'locals', 'map', 'max', 'memoryview', 'min', 'next', 'object', 'oct', 'open', 'ord', 'pow', 'print', 'property', 'range', 'repr', 'reversed', 'round', 'runfile', 'set', 'setattr', 'slice', 'sorted', 'staticmethod', 'str', 'sum', 'super', 'tuple', 'type', 'vars', 'zip']\n"
     ]
    }
   ],
   "source": [
    "print(dir(__builtins__))"
   ]
  },
  {
   "cell_type": "markdown",
   "id": "464d3115-afa1-45b0-9a0e-f1d92534184a",
   "metadata": {},
   "source": [
    "**Global** namespace contains any names defined at the level of the main program. Python interpreter creates the global namespace when the main program body starts, and it remains in existence until the interpreter terminates\n"
   ]
  },
  {
   "cell_type": "code",
   "execution_count": 4,
   "id": "40ad3ac9-d2e8-4600-9e69-35fb58a73859",
   "metadata": {},
   "outputs": [
    {
     "data": {
      "text/plain": [
       "dict"
      ]
     },
     "execution_count": 4,
     "metadata": {},
     "output_type": "execute_result"
    }
   ],
   "source": [
    "type(globals())"
   ]
  },
  {
   "cell_type": "code",
   "execution_count": 5,
   "id": "b755a0a1-4b2d-49b7-841c-abfcdd455d59",
   "metadata": {},
   "outputs": [
    {
     "name": "stdout",
     "output_type": "stream",
     "text": [
      "{'__name__': '__main__', '__doc__': 'Automatically created module for IPython interactive environment', '__package__': None, '__loader__': None, '__spec__': None, '__builtin__': <module 'builtins' (built-in)>, '__builtins__': <module 'builtins' (built-in)>, '_ih': ['', '# EPAM DAE S2 Python Session_3 ', '### Namespaces', 'print(dir(__builtins__))', 'type(globals())', 'print(globals())'], '_oh': {4: <class 'dict'>}, '_dh': [PosixPath('/home/goetie/python_stuff/Courses/EPAM S2')], 'In': ['', '# EPAM DAE S2 Python Session_3 ', '### Namespaces', 'print(dir(__builtins__))', 'type(globals())', 'print(globals())'], 'Out': {4: <class 'dict'>}, 'get_ipython': <bound method InteractiveShell.get_ipython of <ipykernel.zmqshell.ZMQInteractiveShell object at 0x7fd2440da5b0>>, 'exit': <IPython.core.autocall.ZMQExitAutocall object at 0x7fd2440f23d0>, 'quit': <IPython.core.autocall.ZMQExitAutocall object at 0x7fd2440f23d0>, '_': <class 'dict'>, '__': '', '___': '', '_i': 'type(globals())', '_ii': 'print(dir(__builtins__))', '_iii': '### Namespaces', '_i1': '# EPAM DAE S2 Python Session_3 ', '_i2': '### Namespaces', '_i3': 'print(dir(__builtins__))', '_i4': 'type(globals())', '_4': <class 'dict'>, '_i5': 'print(globals())'}\n"
     ]
    }
   ],
   "source": [
    "print(globals())"
   ]
  },
  {
   "cell_type": "markdown",
   "id": "442a0b1c-9598-4b68-a74f-f87d8c17231a",
   "metadata": {},
   "source": [
    "The **Local and Enclosing** namespaces are created whenever a function executes. These namespaces are local and only exist within a function, they exist until the termination of a function"
   ]
  },
  {
   "cell_type": "markdown",
   "id": "1b0c6c3b-f2ef-498b-89a2-e2e7c9aabf21",
   "metadata": {},
   "source": [
    "**NB: Functions do not exist independently from one another only at the level of the main program. You can also define one function inside another**"
   ]
  },
  {
   "cell_type": "code",
   "execution_count": 7,
   "id": "2d0f5fa2-ee6d-4b3d-a0ab-508ec60d0d77",
   "metadata": {},
   "outputs": [
    {
     "name": "stdout",
     "output_type": "stream",
     "text": [
      "Start f()\n",
      "Start g()\n",
      "End g()\n",
      "End f()\n"
     ]
    }
   ],
   "source": [
    "def f():\n",
    "    print('Start f()')\n",
    "    def g():\n",
    "        print('Start g()')\n",
    "        print('End g()') \n",
    "    g()\n",
    "    print('End f()')\n",
    "f()"
   ]
  },
  {
   "cell_type": "markdown",
   "id": "ba3fd374-1467-4df0-95e1-f8e373a51df6",
   "metadata": {},
   "source": [
    "The namespace created automatically for g() is the local namespace, and the namespace created for f() is the enclosing namespace"
   ]
  },
  {
   "cell_type": "code",
   "execution_count": 12,
   "id": "3c41c619-c678-4491-b434-9fdee683e749",
   "metadata": {},
   "outputs": [
    {
     "name": "stdout",
     "output_type": "stream",
     "text": [
      "{'x': 10, 'y': 0.5, 's': 'foo'}\n"
     ]
    }
   ],
   "source": [
    "def f(x,y):\n",
    "    s = 'foo'\n",
    "    print(locals())\n",
    "f(10, 0.5)"
   ]
  },
  {
   "cell_type": "markdown",
   "id": "19b126d1-9cae-483e-8daa-c7bdfd6c459d",
   "metadata": {},
   "source": [
    "### Scope"
   ]
  },
  {
   "cell_type": "markdown",
   "id": "f36de88b-99d9-4008-9e44-7cfbd0f53c05",
   "metadata": {},
   "source": [
    "Suppose you refer to the name x in your code and x exists in several nmespaces. How does python know which one you mean?"
   ]
  },
  {
   "cell_type": "markdown",
   "id": "11c8b2e8-6d5b-4fd4-987a-5ad813668b8c",
   "metadata": {},
   "source": [
    "The answer is in the concept of **scope**"
   ]
  },
  {
   "cell_type": "markdown",
   "id": "6b4662a7-e8eb-4a40-834e-4eb078de2ba5",
   "metadata": {},
   "source": [
    "The scope of a name is the region of a program in which that name has meaning."
   ]
  },
  {
   "cell_type": "markdown",
   "id": "6244ba82-bf89-4d1b-9c33-1809a1149849",
   "metadata": {},
   "source": [
    "The interpreter determines this at runtime based on where the name definition occurs and where in the code the name is referenced"
   ]
  },
  {
   "cell_type": "markdown",
   "id": "2cfc1800-a426-4fac-893d-fe0f1de47676",
   "metadata": {},
   "source": [
    "Scope types are named the same as namespaces:\n",
    "- Local scope: if you refer to x inside a function, then the interpreter first searches for it in the innermost scope thats local to that functions\n",
    "- Enclosing scope: if x isn't in the local scope but appears in a function that resides inside another function, then the interpreter searches in the enclosing function's scope\n",
    "- Global scope: if neither of the above searches succeeded, then the interpreter looks in the global scope\n",
    "- Built-in scope: if it can't find x anywhere else, then the interpreter tries the built-in scope"
   ]
  },
  {
   "cell_type": "markdown",
   "id": "e0ce06db-929e-4192-9b8c-d7be39ff2526",
   "metadata": {},
   "source": [
    "#### The LEGB rule - Local-Enclosing-Global-Builtin"
   ]
  },
  {
   "cell_type": "markdown",
   "id": "48cde3be-1840-4564-b235-44b0ce8bd6a6",
   "metadata": {},
   "source": [
    "**Global** keyword:"
   ]
  },
  {
   "cell_type": "code",
   "execution_count": 24,
   "id": "03c85853-4c29-44be-95d0-8970cf4ba8ec",
   "metadata": {},
   "outputs": [
    {
     "name": "stdout",
     "output_type": "stream",
     "text": [
      "40\n",
      "10\n"
     ]
    }
   ],
   "source": [
    "x = 20\n",
    "def f():\n",
    "    # change the global variable in the local namespace - global() keyword\n",
    "    global x\n",
    "    x = 40\n",
    "    y = 10\n",
    "    print(x)\n",
    "    def g():\n",
    "        nonlocal y\n",
    "        print(y)\n",
    "    g()\n",
    "f()"
   ]
  },
  {
   "cell_type": "markdown",
   "id": "b1bc52ec-58ed-4a15-be1c-c4b02ac74854",
   "metadata": {},
   "source": [
    "## Closures"
   ]
  },
  {
   "cell_type": "markdown",
   "id": "d1ec4550-9a89-4af7-80e0-3877424cd3c3",
   "metadata": {},
   "source": [
    "A closure causes the inner function to retain the state of its environment when called. The closure isnt the inner function itself but the inner function along with its enclosing environment. The closure captures the local variables and name in the containing function and keeps them around"
   ]
  },
  {
   "cell_type": "markdown",
   "id": "73599ddb-5338-40b9-bfd7-76e13a7c9c53",
   "metadata": {},
   "source": [
    "A **closure** is a nested function that allows us to access variables of the outer function even after the outer function is closed"
   ]
  },
  {
   "cell_type": "markdown",
   "id": "772507f7-52e6-4708-ab4b-09b35e5986cf",
   "metadata": {},
   "source": [
    "#### A closure is an inner function with an extended scope that encompasses nonlocal variables of the outer function. So it remembers the nonlocal variables in the enclosing scopes even if they are not present in memory."
   ]
  },
  {
   "cell_type": "code",
   "execution_count": 39,
   "id": "6d8a5b32-364f-4039-a1a5-ac4fd09862ca",
   "metadata": {},
   "outputs": [
    {
     "data": {
      "text/plain": [
       "(<function __main__.maker.<locals>.action(x)>,\n",
       " <function __main__.maker.<locals>.action(x)>,\n",
       " 'action')"
      ]
     },
     "execution_count": 39,
     "metadata": {},
     "output_type": "execute_result"
    }
   ],
   "source": [
    "def maker(n):\n",
    "    def action(x):\n",
    "        return x*n\n",
    "    return action\n",
    "f = maker(2)\n",
    "g = maker(3)\n",
    "f, g, g.__name__"
   ]
  },
  {
   "cell_type": "markdown",
   "id": "c715ac9c-d630-4242-8651-3a6016ee9e34",
   "metadata": {},
   "source": [
    "![](https://miro.medium.com/v2/resize:fit:720/format:webp/1*fxPw-BUfHoPcGkIBBWTgHQ.jpeg)"
   ]
  },
  {
   "cell_type": "code",
   "execution_count": 29,
   "id": "87ac9860-a4dd-4899-ad42-9137ba6ef111",
   "metadata": {},
   "outputs": [
    {
     "data": {
      "text/plain": [
       "(6, 9)"
      ]
     },
     "execution_count": 29,
     "metadata": {},
     "output_type": "execute_result"
    }
   ],
   "source": [
    "f(3), g(3)"
   ]
  },
  {
   "cell_type": "code",
   "execution_count": 55,
   "id": "0b7d2e23-d152-402b-823a-a1fcf8a648ad",
   "metadata": {},
   "outputs": [
    {
     "data": {
      "text/plain": [
       "(14, ('x', 'z'), 2)"
      ]
     },
     "execution_count": 55,
     "metadata": {},
     "output_type": "execute_result"
    }
   ],
   "source": [
    "def f(x):\n",
    "    z = 2\n",
    "    def g(y):\n",
    "        return z*x + y\n",
    "    return g\n",
    "a = 2\n",
    "F = f(a)\n",
    "F(10), F.__code__.co_freevars, F.__closure__[0].cell_contents"
   ]
  },
  {
   "cell_type": "markdown",
   "id": "5bcda4dd-42b4-4cda-a530-8ea6695c44ea",
   "metadata": {},
   "source": [
    "![img](https://miro.medium.com/v2/resize:fit:720/format:webp/1*zjrkiqxMi7Dy5aFL2OkawQ.jpeg)"
   ]
  },
  {
   "cell_type": "markdown",
   "id": "d7d61882-8712-4931-8d1c-c102ee068e74",
   "metadata": {},
   "source": [
    "#### Deploy closures using lambda functions:"
   ]
  },
  {
   "cell_type": "code",
   "execution_count": 56,
   "id": "12236671-68f6-4fba-a416-8f28a7ccecea",
   "metadata": {},
   "outputs": [
    {
     "data": {
      "text/plain": [
       "11"
      ]
     },
     "execution_count": 56,
     "metadata": {},
     "output_type": "execute_result"
    }
   ],
   "source": [
    "def f(x):\n",
    "    z = 2\n",
    "    return lambda y: z*x+y\n",
    "a = 5\n",
    "b = 1\n",
    "f(a)(b)"
   ]
  },
  {
   "cell_type": "markdown",
   "id": "432e197a-75a3-4ff9-a3d4-f8c59485e198",
   "metadata": {},
   "source": [
    "To define a closure we need an inner function that:\n",
    "\n",
    "- It should be returned by the outer function.\n",
    "\n",
    "- it should capture some of the nonlocal variables of the outer function. This can be done by accessing those variables, or defining them as a nonlocal variable or having a nested closure that needs to capture them.\n",
    "\n",
    "After defining the closure, to initialize it, you have to call the outer function to return the closure."
   ]
  },
  {
   "cell_type": "markdown",
   "id": "e4e3cae9-4f31-4489-8b3b-f25c8ea96da6",
   "metadata": {},
   "source": [
    "In functional programming, closures make it possible to bind data to a function without actually passing them as parameters. This is similar to what a class does in object-oriented programming."
   ]
  },
  {
   "cell_type": "code",
   "execution_count": 58,
   "id": "4271712f-358e-4606-a2a0-677e331e43c2",
   "metadata": {},
   "outputs": [
    {
     "name": "stdout",
     "output_type": "stream",
     "text": [
      "3.0\n",
      "3.0\n"
     ]
    }
   ],
   "source": [
    "class NthRoot:\n",
    "    def __init__(self, n=2):\n",
    "        self.n = n\n",
    "    def set_root(n):\n",
    "        self.n = n\n",
    "    def calc(self, x):\n",
    "        return x ** (1/self.n)\n",
    "thirdRoot = NthRoot(3)\n",
    "print(thirdRoot.calc(27))\n",
    "def nth_root(n=2):\n",
    "    def calc(x):\n",
    "        return x ** (1/n)\n",
    "    return calc\n",
    "third_root = nth_root(3)\n",
    "print(third_root(27))"
   ]
  },
  {
   "cell_type": "markdown",
   "id": "28098b3d-2a58-4739-b453-ae764a3972b7",
   "metadata": {},
   "source": [
    "As you see the outer function can play the role of a constructor for us here. It initializes the nonlocal variables that will be used by the inner function. However, there are also some differences. The NthRoot class can have more methods that can be invoked by the object thirdRoot . However, what is returned by nth_root is a function itself. So this method is more limited compared to what classes can do."
   ]
  },
  {
   "cell_type": "markdown",
   "id": "25d5fafa-3ddd-47f4-8a98-51ff6b969ec7",
   "metadata": {
    "tags": []
   },
   "source": [
    "#### Implement composition using a closure:"
   ]
  },
  {
   "cell_type": "code",
   "execution_count": 62,
   "id": "b62c4636-f114-41e7-892d-738a2b604504",
   "metadata": {},
   "outputs": [
    {
     "data": {
      "text/plain": [
       "0.3048"
      ]
     },
     "execution_count": 62,
     "metadata": {},
     "output_type": "execute_result"
    }
   ],
   "source": [
    "def compose(g, f):\n",
    "    def h(*args, **kwargs):\n",
    "        return g(f(*args, **kwargs))\n",
    "    return h\n",
    "# example: inch-to-foot to foot-to-meter\n",
    "inch_to_foot= lambda x: x/12\n",
    "foot_meter= lambda x: x * 0.3048\n",
    "inch_to_meter = compose(foot_meter, inch_to_foot)\n",
    "inch_to_meter(12)"
   ]
  },
  {
   "cell_type": "markdown",
   "id": "2a054061-9bc4-4744-8595-29f6ceea80ef",
   "metadata": {},
   "source": [
    "## Decorators"
   ]
  },
  {
   "cell_type": "markdown",
   "id": "638edabb-4992-41fd-830b-f568f0bd1771",
   "metadata": {},
   "source": [
    "Decorating is a way to manage functions and classes"
   ]
  },
  {
   "cell_type": "markdown",
   "id": "39aaac53-e306-4a78-b5f1-d0d7b6d5d0d0",
   "metadata": {},
   "source": [
    "***Function decorators*** bound function name with another callable object; **this is done when function is defined**.\n",
    "\n",
    "Function decorators add an extra layer of logic which performs some actions when called"
   ]
  },
  {
   "cell_type": "markdown",
   "id": "38bcc5eb-6650-4c11-a1b4-027894883d88",
   "metadata": {},
   "source": [
    "***Class decorators*** bound class name with another callable object; this is done when class is defined. Class decorators add an extra layer of logic which manages classes and instances which are created when class is referred"
   ]
  },
  {
   "cell_type": "code",
   "execution_count": 36,
   "id": "6b3f7e8e-ecfb-44b0-9543-d4b01dea3542",
   "metadata": {},
   "outputs": [
    {
     "data": {
      "text/plain": [
       "'hello'"
      ]
     },
     "execution_count": 36,
     "metadata": {},
     "output_type": "execute_result"
    }
   ],
   "source": [
    "# dummy decorator\n",
    "def null_decorator(func):\n",
    "    return func\n",
    "\n",
    "def greet():\n",
    "    return 'hello'\n",
    "# decorator call\n",
    "greet = null_decorator(greet)\n",
    "greet()\n",
    "# the same as\n",
    "@null_decorator\n",
    "def greet():\n",
    "    return 'hello'\n",
    "greet()"
   ]
  },
  {
   "cell_type": "code",
   "execution_count": 63,
   "id": "aa148b94-97c9-455a-84a2-222ef6b24ea0",
   "metadata": {},
   "outputs": [],
   "source": [
    "# To init a closure, we need to assign the result of the outer function to a new variable:\n",
    "h=f(a)"
   ]
  },
  {
   "cell_type": "code",
   "execution_count": 68,
   "id": "90fd3639-9a12-46ba-8d2f-e28e5737821d",
   "metadata": {},
   "outputs": [],
   "source": [
    "# To init a decorator, we need to assign the same function to itself, but wrapped in a decorating function:\n",
    "def wrapperfunc(f):\n",
    "    pass\n",
    "\n",
    "def F():\n",
    "    pass\n",
    "F = wrapperfunc(F)\n",
    "# same as\n",
    "@wrapperfunc\n",
    "def F():\n",
    "    pass"
   ]
  },
  {
   "cell_type": "code",
   "execution_count": 74,
   "id": "f4fb908c-bb79-4322-b774-cd9675386816",
   "metadata": {},
   "outputs": [
    {
     "data": {
      "text/plain": [
       "(4, 'g')"
      ]
     },
     "execution_count": 74,
     "metadata": {},
     "output_type": "execute_result"
    }
   ],
   "source": [
    "def deco(f):\n",
    "    def g(*args, **kwargs):\n",
    "        return f(*args, **kwargs)\n",
    "    return g\n",
    "\n",
    "#decorate func(x)\n",
    "@deco\n",
    "def func(x):\n",
    "     return 2*x\n",
    "func(2), func.__name__"
   ]
  },
  {
   "cell_type": "markdown",
   "id": "48d87f92-6f96-4d5e-93d9-d34e8cb462cf",
   "metadata": {},
   "source": [
    "![](https://miro.medium.com/v2/resize:fit:720/format:webp/1*bCL9EtwhR9IXndx2Q3iTxA.jpeg)"
   ]
  },
  {
   "cell_type": "markdown",
   "id": "7d235360-00a1-43eb-a640-bdcb64ed0c89",
   "metadata": {},
   "source": [
    "![](https://miro.medium.com/v2/resize:fit:720/format:webp/1*wql7OYmp7rTrt-yaO35MKQ.jpeg)"
   ]
  },
  {
   "cell_type": "markdown",
   "id": "2c76c80a-1e99-4108-b731-f0c5fe567348",
   "metadata": {},
   "source": [
    "So to summarize it, after decoration, the variable func refers to the closure g, and inside g, f refers to the func(x) definition. In fact g is now acting as an interface for the original function func(x) which was decorated. We cannot directly call func(x)outside g. Instead, we first call func to call g, and then inside g we can call f to call the original function func(x). So we are calling the original function func(x) using the closure g."
   ]
  },
  {
   "cell_type": "markdown",
   "id": "f5dc22a7-f195-445f-8297-ed40101a9983",
   "metadata": {},
   "source": [
    "#### Stacked decorators"
   ]
  },
  {
   "cell_type": "code",
   "execution_count": 77,
   "id": "77d8a505-ef02-416b-bb70-d4f92372e0f9",
   "metadata": {},
   "outputs": [
    {
     "name": "stdout",
     "output_type": "stream",
     "text": [
      "Calling  g1 using deco2\n",
      "Calling  func using deco1\n"
     ]
    },
    {
     "data": {
      "text/plain": [
       "4"
      ]
     },
     "execution_count": 77,
     "metadata": {},
     "output_type": "execute_result"
    }
   ],
   "source": [
    "def deco1(f):\n",
    "    def g1(*args, **kwargs):\n",
    "        print(\"Calling \", f.__name__, \"using deco1\")\n",
    "        return f(*args, **kwargs)\n",
    "    return g1\n",
    "def deco2(f):\n",
    "    def g2(*args, **kwargs):\n",
    "        print(\"Calling \", f.__name__, \"using deco2\")\n",
    "        return f(*args, **kwargs)\n",
    "    return g2\n",
    "\n",
    "@deco2 # same as deco2(deco1(func(x)))\n",
    "@deco1\n",
    "def func(x):\n",
    "    return 2*x\n",
    "\n",
    "func(2)"
   ]
  },
  {
   "cell_type": "markdown",
   "id": "73fe727d-e958-4766-a5e4-e4ac9e70e121",
   "metadata": {},
   "source": [
    "![](https://miro.medium.com/v2/resize:fit:720/format:webp/1*IdDXXpVOnM1wtoHgjRFX2Q.jpeg)"
   ]
  },
  {
   "cell_type": "markdown",
   "id": "76c17883-efdd-442f-a12b-43f468352892",
   "metadata": {},
   "source": [
    "#### Parameterized decorators"
   ]
  },
  {
   "cell_type": "code",
   "execution_count": 78,
   "id": "1586d9ff-3387-403a-ab3b-008b632e1cc7",
   "metadata": {},
   "outputs": [
    {
     "name": "stdout",
     "output_type": "stream",
     "text": [
      "Starting func\n",
      "Finished func\n"
     ]
    },
    {
     "data": {
      "text/plain": [
       "4"
      ]
     },
     "execution_count": 78,
     "metadata": {},
     "output_type": "execute_result"
    }
   ],
   "source": [
    "def deco(msg_before, msg_after):\n",
    "    def original_deco(f):\n",
    "        def g(*args, **kwargs):\n",
    "            print(msg_before + \" \" + f.__name__)\n",
    "            result =  f(*args, **kwargs)\n",
    "            print(msg_after + \" \" + f.__name__)\n",
    "            return result\n",
    "        return g\n",
    "    return original_deco\n",
    "\n",
    "@deco(\"Starting\", \"Finished\")\n",
    "def func(x):\n",
    "    return 2*x\n",
    "\n",
    "func(2)"
   ]
  },
  {
   "cell_type": "code",
   "execution_count": 81,
   "id": "7ddf1f0a-c0a4-4593-ab18-c770d301fe90",
   "metadata": {},
   "outputs": [
    {
     "data": {
      "text/plain": [
       "3"
      ]
     },
     "execution_count": 81,
     "metadata": {},
     "output_type": "execute_result"
    }
   ],
   "source": [
    "import time\n",
    "\n",
    "def paused(t):\n",
    "    def parameterized_paused(f):\n",
    "        def wrapper(*args, **kwargs):\n",
    "            time.sleep(t)\n",
    "            return f(*args, **kwargs)\n",
    "        return wrapper\n",
    "    return parameterized_paused\n",
    "\n",
    "@paused(3) # similar to func = paused(3)(func)\n",
    "def func(x,y):\n",
    "    return x+y\n",
    "\n",
    "func(1,2)"
   ]
  },
  {
   "cell_type": "markdown",
   "id": "12f4f080-4ab3-4422-9732-8e4d8eaecfcc",
   "metadata": {},
   "source": [
    "## Python I/O"
   ]
  },
  {
   "cell_type": "code",
   "execution_count": null,
   "id": "7833ecb5-ffcb-4fd5-8d7a-a2051ef998d4",
   "metadata": {},
   "outputs": [],
   "source": [
    "#f = open(\"file_name.txt\")\n",
    "#f.close()"
   ]
  },
  {
   "cell_type": "markdown",
   "id": "e93b4178-6ed0-4423-bca6-3aaa7c6a4e87",
   "metadata": {},
   "source": [
    "`open() function`: open(\n",
    "- file,\n",
    "- mode = 'r',\n",
    "- buffering = -1,\n",
    "- encoding = None,\n",
    "- errors = None,\n",
    "- newline = None,\n",
    "- closefd = True,\n",
    "- opener = None\n",
    "\n",
    ")"
   ]
  },
  {
   "cell_type": "markdown",
   "id": "2c37de63-4e65-43db-b1f6-bb7e9b7039d2",
   "metadata": {},
   "source": [
    "file modes:\n",
    "- 'r' read-only\n",
    "- 'w' write-only\n",
    "- 'x' same as 'w' but raises an exception if the file already exists\n",
    "- 'a' Appending\n",
    "- 'b' binary mode\n",
    "- 't' text mode (default)\n",
    "- '+' read-write"
   ]
  },
  {
   "cell_type": "markdown",
   "id": "52f5ca15-1215-4f14-8452-d75f81394fa1",
   "metadata": {},
   "source": [
    "Working with file line by line"
   ]
  },
  {
   "cell_type": "code",
   "execution_count": 88,
   "id": "45b32def-7533-4989-a1d4-a58992b0b4b6",
   "metadata": {},
   "outputs": [],
   "source": [
    "# Writing\n",
    "# f = open(\"file_name.txt\", \"w\")\n",
    "# f.write(\"first line\\n\")\n",
    "# f.write(\"second line\")\n",
    "# f.close\n",
    "# Reading\n",
    "# f = open(\"file_name.txt\")\n",
    "# print(f.readline())\n",
    "# or\n",
    "# for line in f:\n",
    "#    print(line)\n",
    "# f.close"
   ]
  },
  {
   "cell_type": "markdown",
   "id": "2039fd4c-941d-43f8-a1b2-de3487d6cd8a",
   "metadata": {},
   "source": [
    "#### Binary files"
   ]
  },
  {
   "cell_type": "code",
   "execution_count": 89,
   "id": "5c233f9e-bdcf-4974-b5ae-f6f25b8f7322",
   "metadata": {},
   "outputs": [],
   "source": [
    "# f = open(\"binary_file.dat\", \"bw\")\n",
    "# f.write(b\"0123456789abcdef\")\n",
    "# f.close"
   ]
  },
  {
   "cell_type": "markdown",
   "id": "bf0a677e-ca58-4b5b-9a21-6a93bd0aaa85",
   "metadata": {},
   "source": [
    "### Working with files via context manager"
   ]
  },
  {
   "cell_type": "code",
   "execution_count": 92,
   "id": "94e23db3-6b3d-46fd-8476-8c0728e01b42",
   "metadata": {},
   "outputs": [],
   "source": [
    "# with open(\"file_name.txt\") as\n",
    "# my_file:\n",
    "#    print(my_file.read())"
   ]
  },
  {
   "cell_type": "markdown",
   "id": "d06985fc-f549-41af-98e2-89c287862a68",
   "metadata": {},
   "source": [
    "## Python Modules"
   ]
  },
  {
   "cell_type": "code",
   "execution_count": 94,
   "id": "51c88fe5-5b2e-49fc-9efc-087e59c2fc19",
   "metadata": {},
   "outputs": [
    {
     "name": "stdout",
     "output_type": "stream",
     "text": [
      "['__doc__', '__loader__', '__name__', '__package__', '__spec__', 'acos', 'acosh', 'asin', 'asinh', 'atan', 'atan2', 'atanh', 'ceil', 'comb', 'copysign', 'cos', 'cosh', 'degrees', 'dist', 'e', 'erf', 'erfc', 'exp', 'expm1', 'fabs', 'factorial', 'floor', 'fmod', 'frexp', 'fsum', 'gamma', 'gcd', 'hypot', 'inf', 'isclose', 'isfinite', 'isinf', 'isnan', 'isqrt', 'ldexp', 'lgamma', 'log', 'log10', 'log1p', 'log2', 'modf', 'nan', 'perm', 'pi', 'pow', 'prod', 'radians', 'remainder', 'sin', 'sinh', 'sqrt', 'tan', 'tanh', 'tau', 'trunc']\n"
     ]
    }
   ],
   "source": [
    "import math \n",
    "print(dir(math)) #check the namespace imported with the module"
   ]
  },
  {
   "cell_type": "markdown",
   "id": "a7399200-e7f1-4fa2-a085-41036fa2ae6b",
   "metadata": {},
   "source": [
    "## Additionals: Callable() function"
   ]
  },
  {
   "cell_type": "markdown",
   "id": "5666be92-1503-4ddb-812b-b67aed851c63",
   "metadata": {},
   "source": [
    "Collable objects in python:\n",
    "- Functions\n",
    "- Classes\n",
    "- Methods (functions that hang off of classes)\n",
    "- Instances of classes can be turned into callables"
   ]
  },
  {
   "cell_type": "code",
   "execution_count": 101,
   "id": "26655a2a-dd98-42f7-b721-7e51863ace1b",
   "metadata": {},
   "outputs": [
    {
     "data": {
      "text/plain": [
       "True"
      ]
     },
     "execution_count": 101,
     "metadata": {},
     "output_type": "execute_result"
    }
   ],
   "source": [
    "callable(enumerate)"
   ]
  },
  {
   "cell_type": "code",
   "execution_count": 102,
   "id": "04e2cb88-c41e-4c94-87f5-7641b303b27d",
   "metadata": {},
   "outputs": [
    {
     "data": {
      "text/plain": [
       "range"
      ]
     },
     "execution_count": 102,
     "metadata": {},
     "output_type": "execute_result"
    }
   ],
   "source": [
    "type(range(1))"
   ]
  },
  {
   "cell_type": "code",
   "execution_count": null,
   "id": "ee3eb085-4d33-43e1-909f-387f5da318e5",
   "metadata": {},
   "outputs": [],
   "source": []
  }
 ],
 "metadata": {
  "kernelspec": {
   "display_name": "Python 3 (ipykernel)",
   "language": "python",
   "name": "python3"
  },
  "language_info": {
   "codemirror_mode": {
    "name": "ipython",
    "version": 3
   },
   "file_extension": ".py",
   "mimetype": "text/x-python",
   "name": "python",
   "nbconvert_exporter": "python",
   "pygments_lexer": "ipython3",
   "version": "3.8.10"
  }
 },
 "nbformat": 4,
 "nbformat_minor": 5
}
