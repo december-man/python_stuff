{
 "cells": [
  {
   "cell_type": "code",
   "execution_count": 1,
   "id": "3c34663c-6bc9-4d54-8d89-a442f1f52bd7",
   "metadata": {},
   "outputs": [],
   "source": [
    "%load_ext sql"
   ]
  },
  {
   "cell_type": "code",
   "execution_count": 2,
   "id": "23543cb8-3516-4fc5-881c-e78ed93e34d7",
   "metadata": {},
   "outputs": [],
   "source": [
    "%sql sqlite://"
   ]
  },
  {
   "cell_type": "code",
   "execution_count": 10,
   "id": "c165bca6-fb05-4a9d-8c64-2db83d122adf",
   "metadata": {},
   "outputs": [
    {
     "name": "stdout",
     "output_type": "stream",
     "text": [
      " * sqlite://\n",
      "Done.\n",
      "1 rows affected.\n",
      "1 rows affected.\n"
     ]
    },
    {
     "data": {
      "text/plain": [
       "[]"
      ]
     },
     "execution_count": 10,
     "metadata": {},
     "output_type": "execute_result"
    }
   ],
   "source": [
    "%%sql\n",
    "CREATE TABLE DICKSS(NAME VARCHAR(50), ROLLNO INT PRIMARY KEY);\n",
    "INSERT INTO DICKSS VALUES(\"JADEN SMITH\", 11900);\n",
    "INSERT INTO DICKSS VALUES(\"ALICE ROBERTS\", 73800);"
   ]
  },
  {
   "cell_type": "code",
   "execution_count": 11,
   "id": "b17cd21c-e289-4408-9afc-87650d0d61ba",
   "metadata": {},
   "outputs": [
    {
     "name": "stdout",
     "output_type": "stream",
     "text": [
      " * sqlite://\n",
      "Done.\n"
     ]
    },
    {
     "data": {
      "text/html": [
       "<table>\n",
       "    <tr>\n",
       "        <th>NAME</th>\n",
       "        <th>ROLLNO</th>\n",
       "    </tr>\n",
       "    <tr>\n",
       "        <td>JADEN SMITH</td>\n",
       "        <td>11900</td>\n",
       "    </tr>\n",
       "    <tr>\n",
       "        <td>ALICE ROBERTS</td>\n",
       "        <td>73800</td>\n",
       "    </tr>\n",
       "</table>"
      ],
      "text/plain": [
       "[('JADEN SMITH', 11900), ('ALICE ROBERTS', 73800)]"
      ]
     },
     "execution_count": 11,
     "metadata": {},
     "output_type": "execute_result"
    }
   ],
   "source": [
    "# Querying Student Table\n",
    "%sql SELECT * FROM DICKSS;"
   ]
  },
  {
   "cell_type": "code",
   "execution_count": null,
   "id": "b9883630-9a67-4ee9-8049-78852e9cd767",
   "metadata": {},
   "outputs": [],
   "source": [
    "# Working with existing database:\n",
    "# Specify the path\n",
    "%sql sqlite://home/blablablablalalbalbbl/SQL_TABLE.sql"
   ]
  }
 ],
 "metadata": {
  "kernelspec": {
   "display_name": "Python 3 (ipykernel)",
   "language": "python",
   "name": "python3"
  },
  "language_info": {
   "codemirror_mode": {
    "name": "ipython",
    "version": 3
   },
   "file_extension": ".py",
   "mimetype": "text/x-python",
   "name": "python",
   "nbconvert_exporter": "python",
   "pygments_lexer": "ipython3",
   "version": "3.8.10"
  }
 },
 "nbformat": 4,
 "nbformat_minor": 5
}
