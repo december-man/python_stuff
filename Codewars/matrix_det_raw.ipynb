{
 "cells": [
  {
   "cell_type": "markdown",
   "id": "d32efb63-fe71-43a8-82a1-eb4e9e114a33",
   "metadata": {},
   "source": [
    "Calculating Matrix Determinant, raw style.\n",
    "\n",
    "\n",
    "Using enumerate for Minor calculation, solution by 'rafters'"
   ]
  },
  {
   "cell_type": "code",
   "execution_count": 2,
   "id": "7f6407e7-e182-42bb-888e-463e63ece017",
   "metadata": {},
   "outputs": [],
   "source": [
    "def determinant(matrix):\n",
    "    if len(matrix[0]) == 1:\n",
    "        return matrix[0][0]\n",
    "    elif len(matrix[0]) == 2:\n",
    "        return matrix[0][0]*matrix[1][1] - matrix[0][1]*matrix[1][0] \n",
    "    else:\n",
    "        val = 0\n",
    "        for i in range(len(matrix)):\n",
    "            sub_matrix = [[val for col_i, val in enumerate(row) if col_i != i] for row in matrix[1:]]\n",
    "            sub_det = determinant(sub_matrix)\n",
    "            val += matrix[0][i] * sub_det * (-1)**i\n",
    "        return val"
   ]
  },
  {
   "cell_type": "markdown",
   "id": "0a7c2d31-2c8f-4178-a75a-6773dbc38a98",
   "metadata": {},
   "source": [
    "No enumerate, plain and raw. Solution by Anu003"
   ]
  },
  {
   "cell_type": "code",
   "execution_count": 3,
   "id": "2a4a3635-178a-4764-a7a4-8b6ad6f26050",
   "metadata": {},
   "outputs": [],
   "source": [
    "def determinant(matrix):\n",
    "    #your code here\n",
    "    result = 0\n",
    "    l = len(matrix)\n",
    "\n",
    "    #base case when length of matrix is 1\n",
    "    if l == 1:\n",
    "        return matrix[0][0]\n",
    "\n",
    "    #base case when length of matrix is 2\n",
    "    if l == 2:\n",
    "        return matrix[0][0] * matrix[1][1] - matrix[0][1] * matrix[1][0]\n",
    "\n",
    "    #for length of matrix > 2\n",
    "    for j in range(0, l):\n",
    "        # create a sub matrix to find the determinant\n",
    "        if l!=2:\n",
    "            sub_matrix = []               \n",
    "            sub_matrix = [(row[0:j]+row[j+1:]) for row in matrix[1:]]\n",
    "        result = result + (-1)**j * matrix[0][j] * determinant(sub_matrix)\n",
    "    return result"
   ]
  }
 ],
 "metadata": {
  "kernelspec": {
   "display_name": "Python 3 (ipykernel)",
   "language": "python",
   "name": "python3"
  },
  "language_info": {
   "codemirror_mode": {
    "name": "ipython",
    "version": 3
   },
   "file_extension": ".py",
   "mimetype": "text/x-python",
   "name": "python",
   "nbconvert_exporter": "python",
   "pygments_lexer": "ipython3",
   "version": "3.8.10"
  }
 },
 "nbformat": 4,
 "nbformat_minor": 5
}
