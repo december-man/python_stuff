{
 "cells": [
  {
   "cell_type": "markdown",
   "id": "cbd23e42-ca74-4c93-b9ad-03ffea679d70",
   "metadata": {},
   "source": [
    "British Standard Driver's License code (basic operations with strings)"
   ]
  },
  {
   "cell_type": "code",
   "execution_count": null,
   "id": "14096d91-654e-42b4-a63a-ee9314437f06",
   "metadata": {},
   "outputs": [],
   "source": [
    "from datetime import datetime as dt\n",
    "def driver(data):\n",
    "    \n",
    "    #surname encoding\n",
    "    if len(data[2]) <5:\n",
    "        while len(data[2]) < 5:\n",
    "            data[2] += '9'\n",
    "        \n",
    "    #birthday encoding\n",
    "    date = str(dt.strptime(data[3], \"%d-%b-%Y\" if len(data[3]) <= 11 else \"%d-%B-%Y\"))\n",
    "    birthday = str()\n",
    "    if data[4] == 'F':\n",
    "        birthday = data[3][-2] + str(int(date[5:7]) + 50) + date[8:10] + data[3][-1]\n",
    "    else:\n",
    "        birthday = data[3][-2] + date[5:7] + date[8:10] + data[3][-1]\n",
    "    \n",
    "    #initials encoding\n",
    "    initials = data[0][0] + data[1][0] if data[1] != \"\" else data[0][0] + '9'\n",
    "    \n",
    "    #assembling license code\n",
    "    license_code = data[2][:5].upper() + birthday + initials + '9' + 'AA'\n",
    "    return license_code\n"
   ]
  }
 ],
 "metadata": {
  "kernelspec": {
   "display_name": "Python 3 (ipykernel)",
   "language": "python",
   "name": "python3"
  },
  "language_info": {
   "codemirror_mode": {
    "name": "ipython",
    "version": 3
   },
   "file_extension": ".py",
   "mimetype": "text/x-python",
   "name": "python",
   "nbconvert_exporter": "python",
   "pygments_lexer": "ipython3",
   "version": "3.8.10"
  }
 },
 "nbformat": 4,
 "nbformat_minor": 5
}
