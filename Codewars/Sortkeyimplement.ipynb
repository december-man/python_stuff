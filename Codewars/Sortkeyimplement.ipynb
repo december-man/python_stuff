{
 "cells": [
  {
   "cell_type": "markdown",
   "id": "c5b76c6a-3ec8-4a07-9b47-89c243fe8c74",
   "metadata": {},
   "source": [
    "Sort by method using join() key\n",
    "- Change .isdigit to other .is methods"
   ]
  },
  {
   "cell_type": "code",
   "execution_count": 18,
   "id": "c8e26c3b-51df-48a9-993c-71e590d2d4a3",
   "metadata": {},
   "outputs": [
    {
     "name": "stdout",
     "output_type": "stream",
     "text": [
      "1frifjr 16lgk 2fkrfk fjrif3\n"
     ]
    }
   ],
   "source": [
    "def sort_by_symbol(sentence):\n",
    "    return ' '.join(sorted(sentence.split(), key=lambda sentence: next(c for c in sentence if c.isdigit())))\n",
    "\n",
    "print(sort_by_symbol(\"fjrif3 2fkrfk 1frifjr 16lgk\"))"
   ]
  },
  {
   "cell_type": "markdown",
   "id": "787ad37d-1944-47cb-b4a0-9939a274daf0",
   "metadata": {},
   "source": [
    "Sort by method using sort() key"
   ]
  },
  {
   "cell_type": "code",
   "execution_count": 19,
   "id": "3dd02656-6e19-402b-ab86-01a1ec65fe73",
   "metadata": {},
   "outputs": [
    {
     "name": "stdout",
     "output_type": "stream",
     "text": [
      "00dfpv4ijorij3 1oijwrojf 2ijoijr 21pjrj pewokfpwok222pkdprg 4tpt rogjrgj5ijfewo 6gtkotgko\n"
     ]
    }
   ],
   "source": [
    "def comp(x):\n",
    "    for i in x:\n",
    "        if i.isdigit(): #your condition\n",
    "            return int(i)\n",
    "    \n",
    "def order(sentence):\n",
    "    return ' '.join(sorted(sentence.split(), key=comp))\n",
    "\n",
    "print(order(\"2ijoijr 21pjrj 1oijwrojf 6gtkotgko 4tpt rogjrgj5ijfewo pewokfpwok222pkdprg 00dfpv4ijorij3\"))\n"
   ]
  }
 ],
 "metadata": {
  "kernelspec": {
   "display_name": "Python 3 (ipykernel)",
   "language": "python",
   "name": "python3"
  },
  "language_info": {
   "codemirror_mode": {
    "name": "ipython",
    "version": 3
   },
   "file_extension": ".py",
   "mimetype": "text/x-python",
   "name": "python",
   "nbconvert_exporter": "python",
   "pygments_lexer": "ipython3",
   "version": "3.8.10"
  }
 },
 "nbformat": 4,
 "nbformat_minor": 5
}
