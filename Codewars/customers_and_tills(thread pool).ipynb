{
 "cells": [
  {
   "cell_type": "markdown",
   "id": "bd1f5115-a2e5-4b47-b18d-af4912cd16b7",
   "metadata": {},
   "source": [
    "Thread Pool (n customers, m tills)"
   ]
  },
  {
   "cell_type": "code",
   "execution_count": 1,
   "id": "1bdea929-7aed-43b4-b593-989fcfdcda74",
   "metadata": {},
   "outputs": [],
   "source": [
    "def queue_time(customers, n):\n",
    "    \n",
    "    #specific cases\n",
    "    \n",
    "    if customers == []:\n",
    "        return 0\n",
    "    if n == 1:\n",
    "        return sum(customers)\n",
    "    if n >= len(customers):\n",
    "        return max(customers)\n",
    "    \n",
    "    #till-distribution algorithm for an infinite queue\n",
    "    \n",
    "    while True:\n",
    "        localmin_index = customers.index(min(customers[:n]))\n",
    "        localmin = customers.pop(localmin_index)\n",
    "        customers.insert(localmin_index, localmin+customers[n-1])\n",
    "        customers.remove(customers[n])\n",
    "        if len(customers) == n:\n",
    "            return max(customers)"
   ]
  }
 ],
 "metadata": {
  "kernelspec": {
   "display_name": "Python 3 (ipykernel)",
   "language": "python",
   "name": "python3"
  },
  "language_info": {
   "codemirror_mode": {
    "name": "ipython",
    "version": 3
   },
   "file_extension": ".py",
   "mimetype": "text/x-python",
   "name": "python",
   "nbconvert_exporter": "python",
   "pygments_lexer": "ipython3",
   "version": "3.8.10"
  }
 },
 "nbformat": 4,
 "nbformat_minor": 5
}
