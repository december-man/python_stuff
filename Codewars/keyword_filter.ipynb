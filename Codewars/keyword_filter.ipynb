{
 "cells": [
  {
   "cell_type": "markdown",
   "id": "aa0a3602-e17c-40aa-a307-ddd0446df78e",
   "metadata": {},
   "source": [
    "Keyword filter for Data cleaning:\n",
    "- Keyword is of str() type\n",
    "- Data is a list of strings"
   ]
  },
  {
   "cell_type": "code",
   "execution_count": 11,
   "id": "ba0a2528-348f-4689-a5de-bad140f78d37",
   "metadata": {},
   "outputs": [],
   "source": [
    "def word_search(data_list, keyword):\n",
    "    indices = []\n",
    "    for index,data in enumerate(data_list):\n",
    "        tokens = data.split()\n",
    "        normalized = [token.rstrip('.,').lower() for token in tokens]\n",
    "        if keyword.lower() in normalized:\n",
    "            indices.append(index)\n",
    "    return indices"
   ]
  },
  {
   "cell_type": "markdown",
   "id": "5ae96b02-04e9-42a3-81a9-481bc019aed2",
   "metadata": {},
   "source": [
    "Multiple Keywords:"
   ]
  },
  {
   "cell_type": "code",
   "execution_count": 12,
   "id": "1c4c6304-5c00-46a1-8c8f-9beaf561f78e",
   "metadata": {},
   "outputs": [],
   "source": [
    "def multiple_word_search(documents,keywords):\n",
    "    keyword_to_indices = {}\n",
    "    for keyword in keywords:\n",
    "        keyword_to_indices[keyword] = word_search(documents, keyword)\n",
    "    return keyword_to_indices"
   ]
  },
  {
   "cell_type": "code",
   "execution_count": null,
   "id": "5654872e-38f5-46b8-beda-b6bbdf324526",
   "metadata": {},
   "outputs": [],
   "source": []
  }
 ],
 "metadata": {
  "kernelspec": {
   "display_name": "Python 3 (ipykernel)",
   "language": "python",
   "name": "python3"
  },
  "language_info": {
   "codemirror_mode": {
    "name": "ipython",
    "version": 3
   },
   "file_extension": ".py",
   "mimetype": "text/x-python",
   "name": "python",
   "nbconvert_exporter": "python",
   "pygments_lexer": "ipython3",
   "version": "3.8.10"
  }
 },
 "nbformat": 4,
 "nbformat_minor": 5
}
