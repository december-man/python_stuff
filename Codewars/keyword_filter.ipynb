{
 "cells": [
  {
   "cell_type": "markdown",
   "id": "aa0a3602-e17c-40aa-a307-ddd0446df78e",
   "metadata": {},
   "source": [
    "Keyword filter for Data cleaning:\n",
    "- Keyword is of str() type\n",
    "- Data is a list of strings"
   ]
  },
  {
   "cell_type": "code",
   "execution_count": 11,
   "id": "ba0a2528-348f-4689-a5de-bad140f78d37",
   "metadata": {},
   "outputs": [],
   "source": [
    "def word_search(data_list, keyword):\n",
    "    indices = []\n",
    "    for index,data in enumerate(data_list):\n",
    "        tokens = data.split()\n",
    "        normalized = [token.rstrip('.,').lower() for token in tokens]\n",
    "        if keyword.lower() in normalized:\n",
    "            indices.append(index)\n",
    "    return indices"
   ]
  },
  {
   "cell_type": "code",
   "execution_count": null,
   "id": "1ed99576-b76f-4277-8590-470ea6cbff7d",
   "metadata": {},
   "outputs": [],
   "source": []
  }
 ],
 "metadata": {
  "kernelspec": {
   "display_name": "Python 3 (ipykernel)",
   "language": "python",
   "name": "python3"
  },
  "language_info": {
   "codemirror_mode": {
    "name": "ipython",
    "version": 3
   },
   "file_extension": ".py",
   "mimetype": "text/x-python",
   "name": "python",
   "nbconvert_exporter": "python",
   "pygments_lexer": "ipython3",
   "version": "3.8.10"
  }
 },
 "nbformat": 4,
 "nbformat_minor": 5
}
