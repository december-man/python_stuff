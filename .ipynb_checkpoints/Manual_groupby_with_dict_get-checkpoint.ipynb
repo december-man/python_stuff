{
 "cells": [
  {
   "cell_type": "code",
   "execution_count": 127,
   "id": "50db3d2c-f116-4fe8-bc43-38e55512ad0a",
   "metadata": {},
   "outputs": [
    {
     "name": "stdout",
     "output_type": "stream",
     "text": [
      "{'a': 29, 'b': 73, 'c': -57, 'd': 8}\n"
     ]
    }
   ],
   "source": [
    "#len(A)==len(B) !\n",
    "A = [1,2,3,4,5,6,7,8,9,9,-70,13,55,1]\n",
    "B = ['c','a','b','c','a','b','c','d','a','b','c','a','b','c']\n",
    "def groupbysum(A,B) -> dict:\n",
    "    a=[]\n",
    "    dictionary = {}\n",
    "    s = sorted(set(B))\n",
    "    for j in s:\n",
    "        for i,e in enumerate(B):\n",
    "            if e==j:\n",
    "                a.append(A[i])\n",
    "                dictionary[j] = dictionary.get(j,0)+A[i]\n",
    "    return dictionary\n",
    "print(groupbysum(A,B))\n",
    "        "
   ]
  },
  {
   "cell_type": "code",
   "execution_count": null,
   "id": "e1058d50-0326-48bf-9070-09a735a57482",
   "metadata": {},
   "outputs": [],
   "source": []
  }
 ],
 "metadata": {
  "kernelspec": {
   "display_name": "Python 3 (ipykernel)",
   "language": "python",
   "name": "python3"
  },
  "language_info": {
   "codemirror_mode": {
    "name": "ipython",
    "version": 3
   },
   "file_extension": ".py",
   "mimetype": "text/x-python",
   "name": "python",
   "nbconvert_exporter": "python",
   "pygments_lexer": "ipython3",
   "version": "3.8.10"
  }
 },
 "nbformat": 4,
 "nbformat_minor": 5
}
